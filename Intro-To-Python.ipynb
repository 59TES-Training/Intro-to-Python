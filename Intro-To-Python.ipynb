{
 "cells": [
  {
   "cell_type": "markdown",
   "metadata": {},
   "source": [
    "# Introduction to Python 3.7"
   ]
  },
  {
   "cell_type": "markdown",
   "metadata": {},
   "source": [
    "### In Python a \"#\" is the start of a single line comment. This line will not be read by the interpreter. A ''' is a multiline comment and the interpreter will not read that line of code."
   ]
  },
  {
   "cell_type": "code",
   "execution_count": null,
   "metadata": {},
   "outputs": [],
   "source": [
    "# This is a single line comment, and will not effect our code.\n",
    "\n",
    "''' this is a multi-line comment and will \"block out\" lines of code as a comment\n",
    "    see? the interpreter will not attempt to run any of this text.\n",
    "'''"
   ]
  },
  {
   "cell_type": "markdown",
   "metadata": {},
   "source": [
    "## Data Types"
   ]
  },
  {
   "cell_type": "markdown",
   "metadata": {},
   "source": [
    "### Programming at its core is all about variables. A variable, like the ones below, are spots in the computer’s memory that are reserved for certain types of data. Variables allow us to declare a name and assign a value to that name, think of it like a codename for the value."
   ]
  },
  {
   "cell_type": "markdown",
   "metadata": {},
   "source": [
    "#### String - A representation of literal text."
   ]
  },
  {
   "cell_type": "code",
   "execution_count": null,
   "metadata": {},
   "outputs": [],
   "source": [
    "string = \"Hello World!\" # <<< Here we assign \"Hello World!\" to \"string\" with the assignment operator \"=\".\n",
    "                     # <<< Now when the program sees \"string\" it knows that 'string' means \"Hello World!\" \n",
    "numStr = \"12345\"     # <<< Here the value of \"numStr\" is \"=\" to \"12345\". Although, the value is a number, because we put quotes around it,\n",
    "                     # <<< the program treats it like a word."
   ]
  },
  {
   "cell_type": "markdown",
   "metadata": {},
   "source": [
    "#### Think - What would happen if we tried to add 5 to the value of \"numStr\"?"
   ]
  },
  {
   "cell_type": "code",
   "execution_count": null,
   "metadata": {},
   "outputs": [],
   "source": [
    "think = numStr + 5"
   ]
  },
  {
   "cell_type": "markdown",
   "metadata": {},
   "source": [
    "#### Integer - A representation of a whole number."
   ]
  },
  {
   "cell_type": "code",
   "execution_count": null,
   "metadata": {},
   "outputs": [],
   "source": [
    "num = 5              # <<< Assigning the value of 5 to 'num'\n",
    "numLong = 1023409182 # <<< An integer's length is only limited by the amount of memory in the computer."
   ]
  },
  {
   "cell_type": "markdown",
   "metadata": {},
   "source": [
    "##### Float - A representation of a number with a \"Floating Point\" or decimal."
   ]
  },
  {
   "cell_type": "code",
   "execution_count": null,
   "metadata": {},
   "outputs": [],
   "source": [
    "floatDec = 123.12    # <<< \"floatDec\" is now equal to 123.12\n",
    "floatLong = 0.0      # <<< Although the value after the decimal point is 0, this is still a float, due to the decimal point."
   ]
  },
  {
   "cell_type": "markdown",
   "metadata": {},
   "source": [
    "#### Complex - A way to represent a vector in code. (This Data Type is not used often.)"
   ]
  },
  {
   "cell_type": "code",
   "execution_count": null,
   "metadata": {},
   "outputs": [],
   "source": [
    "numCom = (5+4j)      # <<< This dataType requires a certain format. Real number + real number * imaginary number.\n",
    "                     # <<< This is another way to represent a vector, i.e. (x1, y1) (x2, y2)"
   ]
  },
  {
   "cell_type": "markdown",
   "metadata": {},
   "source": [
    "#### Boolean - value is either True or False"
   ]
  },
  {
   "cell_type": "code",
   "execution_count": null,
   "metadata": {},
   "outputs": [],
   "source": [
    "isBool = True        # Used for logical statements.\n",
    "notBool = False"
   ]
  },
  {
   "cell_type": "markdown",
   "metadata": {},
   "source": [
    "## Complex data types"
   ]
  },
  {
   "cell_type": "markdown",
   "metadata": {},
   "source": [
    "#### Tuple = ()\n",
    "#### A tuple is an immutable list, meaning once it's created, it can't be changed or sorted. Instantiated with parenthesis"
   ]
  },
  {
   "cell_type": "code",
   "execution_count": null,
   "metadata": {},
   "outputs": [],
   "source": [
    "newTuple = (1, 2, 3, 4, 5)"
   ]
  },
  {
   "cell_type": "markdown",
   "metadata": {},
   "source": [
    "#### List = []\n",
    "#### A list is a mutable, unordered list, it can be changed. Instantiated with brackets"
   ]
  },
  {
   "cell_type": "code",
   "execution_count": null,
   "metadata": {},
   "outputs": [],
   "source": [
    "newList = [1, 2, 3, 4, 5, 6]"
   ]
  },
  {
   "cell_type": "markdown",
   "metadata": {},
   "source": [
    "#### Dictionary = {}\n",
    "#### Built with curly braces, consists of comma seperated key, value pairs. Instantiation is as follows {key0 : value0, key1 : value1, key2 : value2}"
   ]
  },
  {
   "cell_type": "code",
   "execution_count": null,
   "metadata": {},
   "outputs": [],
   "source": [
    "newDict = {\"key0\" : 1, \"key2\" : 2, \"key3\" : 3}"
   ]
  },
  {
   "cell_type": "markdown",
   "metadata": {},
   "source": [
    "#### All things in Python are 0 index, meaning that when counting things from left to right always start with 0."
   ]
  },
  {
   "cell_type": "markdown",
   "metadata": {},
   "source": [
    "## Basic Operators"
   ]
  },
  {
   "cell_type": "code",
   "execution_count": null,
   "metadata": {},
   "outputs": [],
   "source": [
    "# Before we can play with operators we need to instantiate some integers\n",
    "a = 1\n",
    "b = 2"
   ]
  },
  {
   "cell_type": "markdown",
   "metadata": {},
   "source": [
    "#### Comparison Operators"
   ]
  },
  {
   "cell_type": "code",
   "execution_count": null,
   "metadata": {},
   "outputs": [],
   "source": [
    "a == b # Comparison\n",
    "a != b # Not Equal \n",
    "a > b # Greater Than\n",
    "a < b # Less Than\n",
    "a >= b # Greater than or equal to\n",
    "a <= b # Less than or equal to"
   ]
  },
  {
   "cell_type": "markdown",
   "metadata": {},
   "source": [
    "#### Arithmetic Operators"
   ]
  },
  {
   "cell_type": "code",
   "execution_count": null,
   "metadata": {},
   "outputs": [],
   "source": [
    "a + b #Addition\n",
    "a - b # Subtraction\n",
    "a * b # Multiplication\n",
    "a / b # Division\n",
    "a%b # Modulo - Does division and returns the remainder\n",
    "a ** b # Exponent\n",
    "a // b # Floor Division - Drops the decimal"
   ]
  },
  {
   "cell_type": "markdown",
   "metadata": {},
   "source": [
    "#### Assignment Operators"
   ]
  },
  {
   "cell_type": "code",
   "execution_count": null,
   "metadata": {},
   "outputs": [],
   "source": [
    "a = b # Assignment\n",
    "a += b # Addition And Assignment, same as saying a = a + b\n",
    "a -= b # Subtraction and Assignment, same as saying a = a - b\n",
    "a *= b # Multiplication and Assignment, same as saying a = a * b\n",
    "a /= b # Division and Assignment, same as saying a = a / b\n",
    "a %= b # Modulo and Assignment, same as saying a = a % b\n",
    "a **= b # Exponenent and Assignment, same as saying a = a ** b\n",
    "a //= b # Floor Division and Assignment, same as saying a = a // b"
   ]
  },
  {
   "cell_type": "markdown",
   "metadata": {},
   "source": [
    "#### Membership Operators"
   ]
  },
  {
   "cell_type": "code",
   "execution_count": null,
   "metadata": {},
   "outputs": [],
   "source": [
    "# Need to change variable for the sake of example\n",
    "a = \"o\"\n",
    "b = \"World\"\n",
    "\n",
    "a in b # Returns a True or False value based on if 'a' is 'in' 'b'\n",
    "a not in b # Returns a True or False value based on if 'a' is 'not in' 'b' if 'a' is 'not in' 'b' returns true."
   ]
  },
  {
   "cell_type": "markdown",
   "metadata": {},
   "source": [
    "#### Identity Operators"
   ]
  },
  {
   "cell_type": "code",
   "execution_count": null,
   "metadata": {},
   "outputs": [],
   "source": [
    "# Need to change variable for the sake of example\n",
    "a = 1\n",
    "b = [1, 2, 3, 4, 5]\n",
    "\n",
    "a is 1 # Returns a True or False value based on the Identity of 'a'\n",
    "b is not a # Returns a True or False value based on the Identity of 'b'"
   ]
  },
  {
   "cell_type": "markdown",
   "metadata": {},
   "source": [
    "#### Arithmetic Operators and Strings"
   ]
  },
  {
   "cell_type": "markdown",
   "metadata": {},
   "source": [
    "Very few operators work with strings, and it is worth noting what function they have"
   ]
  },
  {
   "cell_type": "code",
   "execution_count": null,
   "metadata": {},
   "outputs": [],
   "source": [
    "string_var0 = \"Hello \"\n",
    "string_var1 = \"World!\"\n",
    "\n",
    "string_var0 + string_var1 # Use the Addition Operator to concatinate strings\n",
    "string_var0 * 5           # Use the Multiplication Operator to out put n strings\n",
    "\n",
    "# All other Arithmetic Operators will result in an error"
   ]
  },
  {
   "cell_type": "markdown",
   "metadata": {},
   "source": [
    "## Attributes vs. Methods"
   ]
  },
  {
   "cell_type": "markdown",
   "metadata": {},
   "source": [
    "An important note before we continue is the difference between a method and an attribute.\n",
    "An attribute descibes something about what its being called on.\n",
    "A method performs some function of the thing its being called on.\n",
    "To properly show the difference, I'll build a class called car.\n",
    "- also notice the use of tabs, any statement that ends in a colon, requires any statement that belongs to it, to be indented."
   ]
  },
  {
   "cell_type": "code",
   "execution_count": null,
   "metadata": {},
   "outputs": [],
   "source": [
    "class Car:\n",
    "    make = \"Ford\"      #This is an attribute, as it describes the car.\n",
    "    model = \"Edge\"     #This is an attribute, as it describes the car.\n",
    "    typ = \"SUV\"        #This is an attribute, as it describes the car.\n",
    "    color = \"Blue\"     #This is an attribute, as it describes the car.\n",
    "    speed = 0          #This is an attribute, as it describes the car.\n",
    "    \n",
    "    def setSpeed(x):   #This is an method, as it changes the car.\n",
    "        Car.speed = x"
   ]
  },
  {
   "cell_type": "code",
   "execution_count": null,
   "metadata": {},
   "outputs": [],
   "source": [
    "# Attributes\n",
    "print(Car.make, Car.color, Car.speed)"
   ]
  },
  {
   "cell_type": "code",
   "execution_count": null,
   "metadata": {},
   "outputs": [],
   "source": [
    "#Method\n",
    "Car.setSpeed(60)"
   ]
  },
  {
   "cell_type": "code",
   "execution_count": null,
   "metadata": {},
   "outputs": [],
   "source": [
    "# Shows that the method worked and changed the attribute speed\n",
    "Car.speed"
   ]
  },
  {
   "cell_type": "markdown",
   "metadata": {},
   "source": [
    "## Functions"
   ]
  },
  {
   "cell_type": "markdown",
   "metadata": {},
   "source": [
    "Why use functions? Functions are re-usable blocks of code and represent a programmed routine. Let's use some pseudo code to make your morning routine a function.\n",
    "\n",
    "1. Wake up\n",
    "2. Shower\n",
    "3. Brush Teeth\n",
    "4. Get Dressed\n",
    "5. Get Coffee\n",
    "6. Go to work\n",
    "\n",
    "Functions allow programmers to declare a routine and then call it later. This helps reduce typed code, makes it more readable and more consistent.Instead of typing our morning routine out every time, we can instead just call on that routine. Let's try an example that is written in python, and multiplies a given number by two."
   ]
  },
  {
   "cell_type": "markdown",
   "metadata": {},
   "source": [
    "All functions are defined, and then called. To define a function, use the keyword \"def\" and then an arbitrary name,\n",
    "which is usually descriptive of the functions purpose. The x in parenthesis is a parameter and we will cover that more in depth  shortly."
   ]
  },
  {
   "cell_type": "code",
   "execution_count": null,
   "metadata": {},
   "outputs": [],
   "source": [
    "def multiplyByTwo(x):\n",
    "    x = x * 2         # What is another way to write this?\n",
    "    return x"
   ]
  },
  {
   "cell_type": "markdown",
   "metadata": {},
   "source": [
    "So now that we have defined our function, let's look at how to call it. To call a function just type the name of the function, followed by a set of parenthesis and give a value to all parameters."
   ]
  },
  {
   "cell_type": "code",
   "execution_count": null,
   "metadata": {},
   "outputs": [],
   "source": [
    "multiplyByTwo(15)    # What will happen?"
   ]
  },
  {
   "cell_type": "markdown",
   "metadata": {},
   "source": [
    "When this program runs, and sees the function name, it feeds the parameter into the function, allowing for variable input.\n",
    "In the above example, the program sees \"multiplyByTwo\" and 15, the program looks back at the definition for 'multipleByTwo' and replaces (x) with (15). Now we have:\n",
    " \n",
    "def multiplyByTwo(15) <<< Here the function assigns 15 as the value of x.\n",
    "     x = 15 * 2        <<< Now we re-assign x to the value of x muliplied by two.\n",
    "     return 30         <<< 15 * 2 = 30, so now the value of x is 30, and that value is returned back into the program."
   ]
  },
  {
   "cell_type": "markdown",
   "metadata": {},
   "source": [
    "## Parameters in Depth"
   ]
  },
  {
   "cell_type": "markdown",
   "metadata": {},
   "source": [
    "Parameters allow values to be passed into a function. Think of parameters, or arguments as variables specific to the function.\n",
    "- Functions can have two different types of parameters. Args (Arguments) and Kwargs (Keyword Arguments).\n",
    "- Args will ALWAYS come before Kwargs in the definition.\n",
    "- Args are arbitrary and aren't defined a default value within the function.\n",
    "- Kwargs have an initial value assigned during definition, but can be over written.\n",
    "\n",
    "    Let’s look at an example using our earlier function, but this time we'll name \"multiplyByY\""
   ]
  },
  {
   "cell_type": "code",
   "execution_count": null,
   "metadata": {},
   "outputs": [],
   "source": [
    "def multiplyByY(x, y=2): # <<< In this function, we have 1 arg (x), and 1 kwarg (y=2). \n",
    "    x = x * y            # <<< The same operation takes place as before, only now we aren't limited to multiplying by two.\n",
    "    return x             # <<< Again the value is returned to the program.\n",
    "# Again, Notice the use of tabs. since a function declaration uses a colon at the end of the first line\n",
    "# anything that is part of the function must be indented"
   ]
  },
  {
   "cell_type": "markdown",
   "metadata": {},
   "source": [
    "Calling this function will work a little differently. We have a couple options on how to handle the parameters."
   ]
  },
  {
   "cell_type": "code",
   "execution_count": null,
   "metadata": {},
   "outputs": [],
   "source": [
    "multiplyByY(15) # Here we didn't need to assign a value to our kwarg, \"y\", because it already has a default value."
   ]
  },
  {
   "cell_type": "markdown",
   "metadata": {},
   "source": [
    "this function will playout exactly the same as our 'multiplyByTwo' function.\n",
    "- x = x * y\n",
    "- x = 15 * 2\n",
    "- x = 30"
   ]
  },
  {
   "cell_type": "markdown",
   "metadata": {},
   "source": [
    "However we have a second option, which is to redeclare y as a different value.\n",
    "Think of 'y=2' as the default, and we want to override that default"
   ]
  },
  {
   "cell_type": "code",
   "execution_count": null,
   "metadata": {},
   "outputs": [],
   "source": [
    "multiplyByY(15, y = 3) # Here we set our arg, 'x', as 15 again, but this time our kwarg, 'y', is set to 3."
   ]
  },
  {
   "cell_type": "markdown",
   "metadata": {},
   "source": [
    "This function will playout like this:\n",
    "\n",
    "- multiplyByY(x, y=2)\n",
    "- multiplyByY(15, y = 3) <<< Default value of two is changed to three (Override)\n",
    "- x = x * y\n",
    "- x = 15 * 3\n",
    "- x = 45"
   ]
  },
  {
   "cell_type": "markdown",
   "metadata": {},
   "source": [
    "What should we do, if we don't know how many Args or Kwargs will be used in the function?\n",
    "    The answer is fairly simple, defining your function with \"\\*args\", or \"\\**kwargs\" as parameters will allow any amount of args,or kwargs to be loaded into the function.\n",
    "    \n",
    "A great example, and a great introduction to our next lesson, is the built-in function \"print()\"\n",
    "    The definition of print would look like this print(*args). This means that print() can take any number of arguments.\n",
    "    Print is a built-in function, meaning you don't have to define the function. It is included with Python."
   ]
  },
  {
   "cell_type": "code",
   "execution_count": null,
   "metadata": {},
   "outputs": [],
   "source": [
    "print(\"Hello World!\")"
   ]
  },
  {
   "cell_type": "markdown",
   "metadata": {},
   "source": [
    "The above command will \"print\" \"Hello World!\" to the screen, but what's point in typing \"Hello World!\" when we have a variable whose value is \"Hello World!\"?"
   ]
  },
  {
   "cell_type": "code",
   "execution_count": null,
   "metadata": {},
   "outputs": [],
   "source": [
    "print(string)"
   ]
  },
  {
   "cell_type": "markdown",
   "metadata": {},
   "source": [
    "The above accomplishes the same thing. Using the *args to our advantage, what looks easier and more efficient to type?"
   ]
  },
  {
   "cell_type": "code",
   "execution_count": null,
   "metadata": {},
   "outputs": [],
   "source": [
    "print(string)\n",
    "print(num)\n",
    "print(floatDec)\n",
    "print(isBool)"
   ]
  },
  {
   "cell_type": "markdown",
   "metadata": {},
   "source": [
    "or"
   ]
  },
  {
   "cell_type": "code",
   "execution_count": null,
   "metadata": {},
   "outputs": [],
   "source": [
    "print(string, num, floatDec, isBool)"
   ]
  },
  {
   "cell_type": "markdown",
   "metadata": {},
   "source": [
    "The print() function can accept any number of arguments and still do it's job. Here's where it gets tricky, functions can accept functions as parameters. An example is using our functions from earlier and printing their \"return\" value. Think of the function as one big variable, and the return statement sets that varible.\n",
    "So let’s call print, and as an argument call multiplyByY"
   ]
  },
  {
   "cell_type": "code",
   "execution_count": null,
   "metadata": {},
   "outputs": [],
   "source": [
    "print(multiplyByY(15, y = 3)) "
   ]
  },
  {
   "cell_type": "markdown",
   "metadata": {},
   "source": [
    "Breaking this nested function call down will look like this:\n",
    "- print(x = x * y)\n",
    "- print(x = 15 * 3) <<< remember we Overrode the default value of 2.\n",
    "- print(x = 45)     <<< carry out the rest of the operation\n",
    "- print(return x)    <<< since multiplyByY(15, y = 3) outputs 45, 45 is what gets printed to the screen."
   ]
  },
  {
   "cell_type": "markdown",
   "metadata": {},
   "source": [
    "Let's have some fun, using only the multiplyByY function and the built-in print function, output 5, 10, 15, 20, 25 to the screen"
   ]
  },
  {
   "cell_type": "code",
   "execution_count": 39,
   "metadata": {},
   "outputs": [],
   "source": [
    "# Answer"
   ]
  },
  {
   "cell_type": "markdown",
   "metadata": {},
   "source": [
    "## Loops"
   ]
  },
  {
   "cell_type": "markdown",
   "metadata": {},
   "source": [
    "### While loops"
   ]
  },
  {
   "cell_type": "markdown",
   "metadata": {},
   "source": [
    "There has to be a way to do this faster, we don't wanna type that function over and over and over. That's not what programming is about. Seems like we need a loop!"
   ]
  },
  {
   "cell_type": "markdown",
   "metadata": {},
   "source": [
    "A loop is a logical series that performs an operation over and over again until it meets a given criteria. There are a few different kinds of loops we will discuss, let's start with the while loop."
   ]
  },
  {
   "cell_type": "code",
   "execution_count": null,
   "metadata": {},
   "outputs": [],
   "source": [
    "i = 1                            \n",
    "while (i<6):\n",
    "    print(multiplyByY(5, y = i))\n",
    "    i += 1"
   ]
  },
  {
   "cell_type": "code",
   "execution_count": null,
   "metadata": {},
   "outputs": [],
   "source": [
    "lets break this down:\n",
    "        \n",
    "i = 1               # Here we set a varible outside the loop\n",
    "\n",
    "while (i<6):        # while (Condition) evaluates true. while i is less than 6                                                                             \n",
    "    print(multiplyByY(5, y = i))   #print(multiplyByY) x = 5, and y = i, on the first pass, i will be equal to one\n",
    "    i += 1                     \n",
    "\n",
    "\n",
    "\n",
    "#the loop above continues until i = 6, because i less than 6 and is now false #and the loop exits."
   ]
  },
  {
   "cell_type": "markdown",
   "metadata": {},
   "source": [
    "### For Loops"
   ]
  },
  {
   "cell_type": "markdown",
   "metadata": {},
   "source": [
    "For loops work best when you have a list of things you want to work through quickly. Consider the example below."
   ]
  },
  {
   "cell_type": "code",
   "execution_count": 45,
   "metadata": {},
   "outputs": [
    {
     "name": "stdout",
     "output_type": "stream",
     "text": [
      "7\n",
      "8\n",
      "9\n",
      "10\n",
      "11\n",
      "12\n"
     ]
    }
   ],
   "source": [
    "iter_list = [1, 2, 3, 4, 5, 6]\n",
    "\n",
    "for x in iter_list:\n",
    "    print(x + 6)"
   ]
  },
  {
   "cell_type": "markdown",
   "metadata": {},
   "source": [
    "In the above example we first establish a list, to \"iterate\" through. We then say for \"x\" in 'iter_list'. What is 'x'? 'x' in this case is an arbitrary variable set up to hold a value during each pass of the loop. 'x' holds this value in order. On the first pass, x is equal to 1, we add 6, and the loop prints 7. The loops then starts from 'for' again, this time with 'x' equal to 2, we add 6, and the program prints 8. So on and so forth until all values within the object have been used."
   ]
  },
  {
   "cell_type": "markdown",
   "metadata": {},
   "source": [
    "## Boolean Logic"
   ]
  },
  {
   "cell_type": "markdown",
   "metadata": {},
   "source": [
    "Remember earlier when when talked about booleans? True or False values? How about we use those to make some programmatic decisions?"
   ]
  },
  {
   "cell_type": "code",
   "execution_count": 62,
   "metadata": {},
   "outputs": [
    {
     "name": "stdout",
     "output_type": "stream",
     "text": [
      "This number is greater than 5!\n"
     ]
    }
   ],
   "source": [
    "# First let's import a package. I will cover this in greater detail in a later lesson/section\n",
    "\n",
    "from random import randint\n",
    "\n",
    "x = randint(0,10)         # We use the imported function \"randint\" to create a random integer between -1 and 11.\n",
    "\n",
    "if x > 5:                                  # We ask the machine, is x greater than 5? if so...\n",
    "    print(\"This number is greater than 5!\")                 # Do this! and skip the rest of the If, Elif, Else statement.\n",
    "elif x < 5:   #(Else if)                     If the first statement is false, we ask the machine is x less than 5? if so...\n",
    "    print(\"This number is less than 5!\")                   # Do this! and skip the rest of the If, Elif, Else statement.\n",
    "#else:                                     # Finally we tell the machine, since nothing else is true, \n",
    "    # What statement should go here?                       # Do this! and continue with the program."
   ]
  },
  {
   "cell_type": "markdown",
   "metadata": {},
   "source": [
    "The important thing to remember with an If, Elif, Else statement is, whenever a statement evaluates as True, the rest of the statement is ignored. That means, in the above example, if x is indeed greater than 5, neither the Elif, or Else statements will run."
   ]
  },
  {
   "cell_type": "markdown",
   "metadata": {},
   "source": [
    "## Challenge 1:\n",
    "#### If we list all natural numbers below 10 that are multiples of 3 or 5, we get 3, 5, 6, and 9. The sum of these multiples is 23.\n",
    "#### Find the sum of all multiples of 3 or 5 below 1000."
   ]
  },
  {
   "cell_type": "code",
   "execution_count": null,
   "metadata": {},
   "outputs": [],
   "source": []
  },
  {
   "cell_type": "markdown",
   "metadata": {},
   "source": [
    "## Challenge 2:"
   ]
  },
  {
   "cell_type": "markdown",
   "metadata": {},
   "source": [
    "#### Each new term in the Fibonacci sequence is generated by adding the previous two terms. By starting with 1 and 2, the first 10 digits of the series are:\n",
    "\n",
    "#### 1, 2, 3, 5, 8, 13, 21, 34, 55, 89\n",
    "\n",
    "#### By considering the terms in the Fibonacci sequence whose values do not exceed 4 million, find the sum of the even-valued terms."
   ]
  },
  {
   "cell_type": "code",
   "execution_count": null,
   "metadata": {},
   "outputs": [],
   "source": []
  }
 ],
 "metadata": {
  "kernelspec": {
   "display_name": "Python 3",
   "language": "python",
   "name": "python3"
  },
  "language_info": {
   "codemirror_mode": {
    "name": "ipython",
    "version": 3
   },
   "file_extension": ".py",
   "mimetype": "text/x-python",
   "name": "python",
   "nbconvert_exporter": "python",
   "pygments_lexer": "ipython3",
   "version": "3.7.3"
  }
 },
 "nbformat": 4,
 "nbformat_minor": 2
}
