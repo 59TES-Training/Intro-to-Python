{
 "cells": [
  {
   "cell_type": "markdown",
   "metadata": {},
   "source": [
    "# Introduction to Python 3.7# In Python a \"#\" is the start of a single line comment. This line will not be read by the interpreter."
   ]
  },
  {
   "cell_type": "markdown",
   "metadata": {},
   "source": [
    "## In Python a \"#\" is the start of a single line comment. This line will not be read by the interpreter."
   ]
  },
  {
   "cell_type": "code",
   "execution_count": null,
   "metadata": {},
   "outputs": [],
   "source": [
    "''' this is a multi-line comment and will \"block out\" lines of code as a comment\n",
    "    see? the interpreter will not attempt to run any of this text.\n",
    "'''"
   ]
  },
  {
   "cell_type": "markdown",
   "metadata": {},
   "source": [
    "## Data Types"
   ]
  },
  {
   "cell_type": "markdown",
   "metadata": {},
   "source": [
    "### Programming at its core is all about variables. A variable, like the ones below, are spots in the computer’s memory that are reserved for certain types of data. Variables allow us to declare a name and assign a value to that name, think of it like a codename for the value."
   ]
  },
  {
   "cell_type": "markdown",
   "metadata": {},
   "source": [
    "#### String - A representation of literal text."
   ]
  },
  {
   "cell_type": "code",
   "execution_count": 2,
   "metadata": {},
   "outputs": [],
   "source": [
    "string = \"Hello World!\" # <<< Here we assign \"Hello World!\" to \"string\" with the assignment operator \"=\".\n",
    "                     # <<< Now when the program sees \"string\" it knows that 'string' means \"Hello World!\" \n",
    "numStr = \"12345\"     # <<< Here the value of \"numStr\" is \"=\" to \"12345\". Although, the value is a number, because we put quotes around it,\n",
    "                     # <<< the program treats it like a word."
   ]
  },
  {
   "cell_type": "markdown",
   "metadata": {},
   "source": [
    "#### Think - What would happen if we tried to add 5 to the value of \"numStr\"?"
   ]
  },
  {
   "cell_type": "code",
   "execution_count": null,
   "metadata": {},
   "outputs": [],
   "source": [
    "think = numStr + 5"
   ]
  },
  {
   "cell_type": "markdown",
   "metadata": {},
   "source": [
    "#### Integer - A representation of a whole number."
   ]
  },
  {
   "cell_type": "code",
   "execution_count": null,
   "metadata": {},
   "outputs": [],
   "source": [
    "num = 5              # <<< Assigning the value of 5 to 'num'\n",
    "numLong = 1023409182 # <<< An integer's length is only limited by the amount of memory in the computer."
   ]
  },
  {
   "cell_type": "markdown",
   "metadata": {},
   "source": [
    "##### Float - A representation of a number with a \"Floating Point\" or decimal."
   ]
  },
  {
   "cell_type": "code",
   "execution_count": null,
   "metadata": {},
   "outputs": [],
   "source": [
    "floatDec = 123.12    # <<< \"floatDec\" is now equal to 123.12\n",
    "floatLong = 0.0      # <<< Although the value after the decimal point is 0, this is still a float, due to the decimal point."
   ]
  },
  {
   "cell_type": "markdown",
   "metadata": {},
   "source": [
    "#### Complex - A way to represent a vector in code. (This Data Type is not used often.)"
   ]
  },
  {
   "cell_type": "code",
   "execution_count": null,
   "metadata": {},
   "outputs": [],
   "source": [
    "numCom = (5+4j)      # <<< This dataType requires a certain format. Real number + real number * imaginary number.\n",
    "                     # <<< This is another way to represent a vector, i.e. (x1, y1) (x2, y2)"
   ]
  },
  {
   "cell_type": "markdown",
   "metadata": {},
   "source": [
    "#### Boolean - value is either True or False"
   ]
  },
  {
   "cell_type": "code",
   "execution_count": null,
   "metadata": {},
   "outputs": [],
   "source": [
    "isBool = True        # Used for logical statements.\n",
    "notBool = False"
   ]
  },
  {
   "cell_type": "markdown",
   "metadata": {},
   "source": [
    "## Complex data types"
   ]
  },
  {
   "cell_type": "markdown",
   "metadata": {},
   "source": [
    "#### Tuple = ()\n",
    "#### A tuple is an immutable list, meaning once it's created, it can't be changed or sorted. Instantiated with parenthesis"
   ]
  },
  {
   "cell_type": "code",
   "execution_count": null,
   "metadata": {},
   "outputs": [],
   "source": [
    "newTuple = (1, 2, 3, 4, 5)"
   ]
  },
  {
   "cell_type": "markdown",
   "metadata": {},
   "source": [
    "#### List = []\n",
    "#### A list is a mutable, unordered list, it can be changed. Instantiated with brackets"
   ]
  },
  {
   "cell_type": "code",
   "execution_count": null,
   "metadata": {},
   "outputs": [],
   "source": [
    "newList = [1, 2, 3, 4, 5, 6]"
   ]
  },
  {
   "cell_type": "markdown",
   "metadata": {},
   "source": [
    "#### Dictionary = {}\n",
    "#### Built with curly braces, consists of comma seperated key, value pairs. Instantiation is as follows {key0 : value0, key1 : value1, key2 : value2}"
   ]
  },
  {
   "cell_type": "code",
   "execution_count": null,
   "metadata": {},
   "outputs": [],
   "source": [
    "newDict = {\"key0\" : 1, \"key2\" : 2, \"key3\" : 3}"
   ]
  },
  {
   "cell_type": "markdown",
   "metadata": {},
   "source": [
    "#### All things in Python are 0 index, meaning that when counting things from left to right always start with 0."
   ]
  },
  {
   "cell_type": "markdown",
   "metadata": {},
   "source": [
    "## Basic Operators"
   ]
  },
  {
   "cell_type": "code",
   "execution_count": null,
   "metadata": {},
   "outputs": [],
   "source": [
    "# Before we can play with operators we need to instantiate some integers\n",
    "a = 1\n",
    "b = 2"
   ]
  },
  {
   "cell_type": "markdown",
   "metadata": {},
   "source": [
    "#### Comparison Operators"
   ]
  },
  {
   "cell_type": "code",
   "execution_count": null,
   "metadata": {},
   "outputs": [],
   "source": [
    "a == b # Comparison\n",
    "a != b # Not Equal \n",
    "a > b # Greater Than\n",
    "a < b # Less Than\n",
    "a <= b # Less than or equal to\n",
    "a >= b # Greater than or equal to"
   ]
  },
  {
   "cell_type": "code",
   "execution_count": null,
   "metadata": {},
   "outputs": [],
   "source": []
  }
 ],
 "metadata": {
  "kernelspec": {
   "display_name": "Python 3",
   "language": "python",
   "name": "python3"
  },
  "language_info": {
   "codemirror_mode": {
    "name": "ipython",
    "version": 3
   },
   "file_extension": ".py",
   "mimetype": "text/x-python",
   "name": "python",
   "nbconvert_exporter": "python",
   "pygments_lexer": "ipython3",
   "version": "3.7.3"
  }
 },
 "nbformat": 4,
 "nbformat_minor": 2
}
