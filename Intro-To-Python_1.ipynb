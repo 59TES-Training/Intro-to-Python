{
 "cells": [
  {
   "cell_type": "markdown",
   "metadata": {},
   "source": [
    "# Review"
   ]
  },
  {
   "cell_type": "markdown",
   "metadata": {},
   "source": [
    "## Data Types"
   ]
  },
  {
   "cell_type": "markdown",
   "metadata": {},
   "source": [
    "Name the following Data Types"
   ]
  },
  {
   "cell_type": "code",
   "execution_count": 112,
   "metadata": {},
   "outputs": [],
   "source": [
    "import string"
   ]
  },
  {
   "cell_type": "code",
   "execution_count": 113,
   "metadata": {},
   "outputs": [],
   "source": [
    "name = \"Andrew\""
   ]
  },
  {
   "cell_type": "code",
   "execution_count": 114,
   "metadata": {},
   "outputs": [
    {
     "data": {
      "text/plain": [
       "str"
      ]
     },
     "execution_count": 114,
     "metadata": {},
     "output_type": "execute_result"
    }
   ],
   "source": [
    "type(name)"
   ]
  },
  {
   "cell_type": "code",
   "execution_count": 115,
   "metadata": {},
   "outputs": [],
   "source": [
    "age = 28"
   ]
  },
  {
   "cell_type": "code",
   "execution_count": 116,
   "metadata": {},
   "outputs": [
    {
     "data": {
      "text/plain": [
       "int"
      ]
     },
     "execution_count": 116,
     "metadata": {},
     "output_type": "execute_result"
    }
   ],
   "source": [
    "type(age)"
   ]
  },
  {
   "cell_type": "code",
   "execution_count": 117,
   "metadata": {},
   "outputs": [],
   "source": [
    "pi = 3.14"
   ]
  },
  {
   "cell_type": "code",
   "execution_count": 118,
   "metadata": {},
   "outputs": [
    {
     "data": {
      "text/plain": [
       "float"
      ]
     },
     "execution_count": 118,
     "metadata": {},
     "output_type": "execute_result"
    }
   ],
   "source": [
    "type(pi)"
   ]
  },
  {
   "cell_type": "code",
   "execution_count": 119,
   "metadata": {},
   "outputs": [],
   "source": [
    "vect = (5 + 7j)"
   ]
  },
  {
   "cell_type": "code",
   "execution_count": 120,
   "metadata": {},
   "outputs": [
    {
     "data": {
      "text/plain": [
       "complex"
      ]
     },
     "execution_count": 120,
     "metadata": {},
     "output_type": "execute_result"
    }
   ],
   "source": [
    "type(vect)"
   ]
  },
  {
   "cell_type": "code",
   "execution_count": 121,
   "metadata": {},
   "outputs": [],
   "source": [
    "isThisRealLife = False"
   ]
  },
  {
   "cell_type": "code",
   "execution_count": 122,
   "metadata": {},
   "outputs": [
    {
     "data": {
      "text/plain": [
       "bool"
      ]
     },
     "execution_count": 122,
     "metadata": {},
     "output_type": "execute_result"
    }
   ],
   "source": [
    "type(isThisRealLife)"
   ]
  },
  {
   "cell_type": "code",
   "execution_count": 123,
   "metadata": {},
   "outputs": [],
   "source": [
    "keyValue = {'Key0' : 1, 'key1': 2, 'key3' : 3}"
   ]
  },
  {
   "cell_type": "code",
   "execution_count": 124,
   "metadata": {},
   "outputs": [
    {
     "data": {
      "text/plain": [
       "dict"
      ]
     },
     "execution_count": 124,
     "metadata": {},
     "output_type": "execute_result"
    }
   ],
   "source": [
    "type(keyValue)"
   ]
  },
  {
   "cell_type": "code",
   "execution_count": 125,
   "metadata": {},
   "outputs": [],
   "source": [
    "studentsPerTeacher = ['Mr. Jones', ['Bob', 'Susan, Jen'], 'Mrs. Warren', ['Craig', 'Eric'], 'Mr.Coffman', ['Jack', 'Jim', 'Hank']]"
   ]
  },
  {
   "cell_type": "code",
   "execution_count": 126,
   "metadata": {},
   "outputs": [
    {
     "data": {
      "text/plain": [
       "list"
      ]
     },
     "execution_count": 126,
     "metadata": {},
     "output_type": "execute_result"
    }
   ],
   "source": [
    "type(studentsPerTeacher)"
   ]
  },
  {
   "cell_type": "code",
   "execution_count": 127,
   "metadata": {},
   "outputs": [
    {
     "name": "stdout",
     "output_type": "stream",
     "text": [
      "<class 'str'>\n",
      "<class 'list'>\n"
     ]
    }
   ],
   "source": [
    "print(type(studentsPerTeacher[0]))\n",
    "print(type(studentsPerTeacher[1]))"
   ]
  },
  {
   "cell_type": "code",
   "execution_count": 128,
   "metadata": {},
   "outputs": [],
   "source": [
    "unique = {1, 1, 2, 2, 3, 3, 4, 5, 6, 6, 7}"
   ]
  },
  {
   "cell_type": "code",
   "execution_count": 129,
   "metadata": {},
   "outputs": [
    {
     "data": {
      "text/plain": [
       "set"
      ]
     },
     "execution_count": 129,
     "metadata": {},
     "output_type": "execute_result"
    }
   ],
   "source": [
    "type(unique)"
   ]
  },
  {
   "cell_type": "code",
   "execution_count": 130,
   "metadata": {},
   "outputs": [
    {
     "name": "stdout",
     "output_type": "stream",
     "text": [
      "{1, 2, 3, 4, 5, 6, 7}\n"
     ]
    }
   ],
   "source": [
    "print(unique)"
   ]
  },
  {
   "cell_type": "markdown",
   "metadata": {},
   "source": [
    "## Name these operators"
   ]
  },
  {
   "cell_type": "markdown",
   "metadata": {},
   "source": [
    "=="
   ]
  },
  {
   "cell_type": "markdown",
   "metadata": {},
   "source": [
    "%"
   ]
  },
  {
   "cell_type": "markdown",
   "metadata": {},
   "source": [
    "**"
   ]
  },
  {
   "cell_type": "markdown",
   "metadata": {},
   "source": [
    "//"
   ]
  },
  {
   "cell_type": "markdown",
   "metadata": {},
   "source": [
    "## Solve x"
   ]
  },
  {
   "cell_type": "code",
   "execution_count": 132,
   "metadata": {},
   "outputs": [
    {
     "name": "stdout",
     "output_type": "stream",
     "text": [
      "1\n",
      "2\n",
      "3\n",
      "4\n",
      "5\n",
      "6\n",
      "7\n",
      "8\n",
      "9\n"
     ]
    }
   ],
   "source": [
    "x, y = 0, 1\n",
    "\n",
    "while y < 10:\n",
    "    x += 1\n",
    "    print(x)\n",
    "    y += 1"
   ]
  },
  {
   "cell_type": "markdown",
   "metadata": {},
   "source": [
    "## Find and Correct the Errors"
   ]
  },
  {
   "cell_type": "code",
   "execution_count": null,
   "metadata": {},
   "outputs": [],
   "source": [
    "a = 1\n",
    "b = 1\n",
    "\n",
    "if a > b\n",
    "    b += 2\n",
    "elif a < b\n",
    "    a += 2\n",
    "else:\n",
    "    A == b\n",
    "    print('Equal')\n",
    "    \n",
    "    \n",
    "    #missing colons, capital 'A' (Python is a case-sensative language)"
   ]
  },
  {
   "cell_type": "markdown",
   "metadata": {},
   "source": [
    "## Attribute or Method?"
   ]
  },
  {
   "cell_type": "code",
   "execution_count": 133,
   "metadata": {},
   "outputs": [
    {
     "name": "stdout",
     "output_type": "stream",
     "text": [
      "HELLO\n",
      "0123456789\n"
     ]
    }
   ],
   "source": [
    "newString = 'hello'\n",
    "\n",
    "print(newString.upper())\n",
    "print(string.digits)"
   ]
  },
  {
   "cell_type": "markdown",
   "metadata": {},
   "source": [
    "Write a function that takes 2 arguments and finds the area of a triangle (Base multiplied by height, divided by two):"
   ]
  },
  {
   "cell_type": "code",
   "execution_count": 134,
   "metadata": {},
   "outputs": [
    {
     "data": {
      "text/plain": [
       "25.0"
      ]
     },
     "execution_count": 134,
     "metadata": {},
     "output_type": "execute_result"
    }
   ],
   "source": [
    "def areaoftri(b, h):\n",
    "    area = b * h\n",
    "    area /= 2\n",
    "    return area\n",
    "areaoftri(10, 5)"
   ]
  },
  {
   "cell_type": "markdown",
   "metadata": {},
   "source": [
    "Write a loop that prints every value from 1 - 100, replacing every fifth value with the word 'bang'"
   ]
  },
  {
   "cell_type": "code",
   "execution_count": 135,
   "metadata": {},
   "outputs": [
    {
     "name": "stdout",
     "output_type": "stream",
     "text": [
      "1\n",
      "2\n",
      "3\n",
      "4\n",
      "bang\n",
      "6\n",
      "7\n",
      "8\n",
      "9\n",
      "bang\n",
      "11\n",
      "12\n",
      "13\n",
      "14\n",
      "bang\n",
      "16\n",
      "17\n",
      "18\n",
      "19\n",
      "bang\n",
      "21\n",
      "22\n",
      "23\n",
      "24\n",
      "bang\n",
      "26\n",
      "27\n",
      "28\n",
      "29\n",
      "bang\n",
      "31\n",
      "32\n",
      "33\n",
      "34\n",
      "bang\n",
      "36\n",
      "37\n",
      "38\n",
      "39\n",
      "bang\n",
      "41\n",
      "42\n",
      "43\n",
      "44\n",
      "bang\n",
      "46\n",
      "47\n",
      "48\n",
      "49\n",
      "bang\n",
      "51\n",
      "52\n",
      "53\n",
      "54\n",
      "bang\n",
      "56\n",
      "57\n",
      "58\n",
      "59\n",
      "bang\n",
      "61\n",
      "62\n",
      "63\n",
      "64\n",
      "bang\n",
      "66\n",
      "67\n",
      "68\n",
      "69\n",
      "bang\n",
      "71\n",
      "72\n",
      "73\n",
      "74\n",
      "bang\n",
      "76\n",
      "77\n",
      "78\n",
      "79\n",
      "bang\n",
      "81\n",
      "82\n",
      "83\n",
      "84\n",
      "bang\n",
      "86\n",
      "87\n",
      "88\n",
      "89\n",
      "bang\n",
      "91\n",
      "92\n",
      "93\n",
      "94\n",
      "bang\n",
      "96\n",
      "97\n",
      "98\n",
      "99\n",
      "bang\n"
     ]
    }
   ],
   "source": [
    "i = 1\n",
    "\n",
    "while i <= 100:\n",
    "    if i%5 == 0:\n",
    "        print('bang')\n",
    "    else:\n",
    "        print(i)\n",
    "    i +=1"
   ]
  },
  {
   "cell_type": "markdown",
   "metadata": {},
   "source": [
    "Create a list of integers 1- 10, and then using a for loop add one to all odd numbers and divide all even numbers by 2. "
   ]
  },
  {
   "cell_type": "code",
   "execution_count": 136,
   "metadata": {},
   "outputs": [
    {
     "name": "stdout",
     "output_type": "stream",
     "text": [
      "[2, 1.0, 4, 2.0, 6, 3.0, 8, 4.0, 10, 5.0]\n"
     ]
    }
   ],
   "source": [
    "numList= [1, 2, 3, 4, 5, 6, 7, 8, 9, 10]\n",
    "i = 0\n",
    "for num in numList:\n",
    "    if numList[i]%2 != 0:\n",
    "        numList[i] = num + 1\n",
    "        \n",
    "    else:\n",
    "        numList[i] = num / 2\n",
    "        \n",
    "    i+=1\n",
    "print(numList)"
   ]
  },
  {
   "cell_type": "markdown",
   "metadata": {},
   "source": [
    "A palindromic number reads the same both ways. The largest palindrome made from the product of two 2-digit numbers is 9009 = 91 × 99.\n",
    "Find the largest palindrome made from the product of two 3-digit numbers."
   ]
  },
  {
   "cell_type": "code",
   "execution_count": null,
   "metadata": {},
   "outputs": [],
   "source": []
  },
  {
   "cell_type": "code",
   "execution_count": null,
   "metadata": {},
   "outputs": [],
   "source": []
  }
 ],
 "metadata": {
  "kernelspec": {
   "display_name": "Python 3",
   "language": "python",
   "name": "python3"
  }
 },
 "nbformat": 4,
 "nbformat_minor": 2
}
